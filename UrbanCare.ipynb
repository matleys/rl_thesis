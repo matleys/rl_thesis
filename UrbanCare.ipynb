{
 "cells": [
  {
   "cell_type": "code",
   "execution_count": 210,
   "id": "9801d998",
   "metadata": {},
   "outputs": [],
   "source": [
    "from datetime import datetime\n",
    "from time import time"
   ]
  },
  {
   "cell_type": "markdown",
   "id": "5aae5d1d",
   "metadata": {},
   "source": [
    "# Markov Decision Process Classes Definitions"
   ]
  },
  {
   "cell_type": "markdown",
   "id": "61cb0526",
   "metadata": {},
   "source": [
    "## Agent"
   ]
  },
  {
   "cell_type": "code",
   "execution_count": 78,
   "id": "f9b8c174",
   "metadata": {},
   "outputs": [],
   "source": [
    "class Agent:\n",
    "    def __init__(self, name, age, qualifications, location, region, gender, languages, race, availabilities):\n",
    "        self.name = name\n",
    "        self.age = age\n",
    "        self.qualifications = qualifications # nurse, cpr, massage, physio and/or revalidation\n",
    "        self.location = location # (lat, lon)\n",
    "        self.region = region # A, B, C...\n",
    "        self.gender = gender # male or female\n",
    "        self.languages = languages # spanish, catalan, french and/or english\n",
    "        self.race = race # white, latin-american, black or asian\n",
    "        \n",
    "        # Assumption: agents are always available between certain times: so no holidays, sick days, etc.\n",
    "        # TODO: find way to loosen this assumption (e.g. allow available between 8am and 4pm except Wednesday)\n",
    "        self.availabilities = list()\n",
    "        for av in availabilities:\n",
    "            start = datetime.strptime(av[0], '%H:%M')\n",
    "            end = datetime.strptime(av[1], '%H:%M')\n",
    "            self.availabilities.append((start, end))\n",
    "    \n",
    "    def to_string(self):\n",
    "        return \"Agent \" + self.name"
   ]
  },
  {
   "cell_type": "markdown",
   "id": "8d37c82c",
   "metadata": {},
   "source": [
    "An agent represents a caregiver as a set of defining features."
   ]
  },
  {
   "cell_type": "code",
   "execution_count": 79,
   "id": "0ae29425",
   "metadata": {},
   "outputs": [],
   "source": [
    "# Create sample agents\n",
    "\n",
    "agent1 = Agent('Test Agent 1', age = 43, qualifications = ['nurse', 'cpr', 'physio'], location = (41.3, 2.625), region = 'A', \n",
    "               gender = 'M', languages = ['spanish'], race = 'white',\n",
    "               availabilities = [('08:30', '11:00'), ('14:00', '16:00')])\n",
    "\n",
    "agent2 = Agent('Test Agent 2', age = 22, qualifications = [], location = (45.967, 2.004), region = 'C', \n",
    "               gender = 'F', languages = ['spanish', 'catalan'], race = 'latin-american',\n",
    "               availabilities = [('08:30', '12:30'), ('14:00', '21:00')])\n",
    "\n",
    "agent3 = Agent('Test Agent 3', age = 61, qualifications = ['cpr', 'massage', 'nurse'], location = (42.768, 1.87), region = 'A', \n",
    "               gender = 'F', languages = ['catalan'], race = 'latin-american',\n",
    "               availabilities = [('06:30', '12:30'), ('15:00', '20:00')])\n",
    "\n",
    "agent4 = Agent('Test Agent 4', age = 34, qualifications = ['cpr', 'massage', 'physio'], location = (42.7, 1.97), region = 'B', \n",
    "               gender = 'F', languages = ['catalan'], race = 'latin-american',\n",
    "               availabilities = [('06:30', '23:30')])\n",
    "\n",
    "agent5 = Agent('Test Agent 5', age = 42, qualifications = [], location = (39.78, 2.908), region = 'A', \n",
    "               gender = 'F', languages = ['catalan'], race = 'asian',\n",
    "               availabilities = [('06:30', '12:30'), ('15:00', '17:00')])\n",
    "\n",
    "agent6 = Agent('Test Agent 6', age = 37, qualifications = ['nurse', 'physio', 'massage'], location = (40.7, 2.14), region = 'A', \n",
    "               gender = 'F', languages = ['catalan'], race = 'white',\n",
    "               availabilities = [('07:30', '13:00'), ('15:00', '19:00')])\n",
    "\n",
    "agent7 = Agent('Test Agent 7', age = 57, qualifications = ['physio', 'revalidation', 'nurse'], location = (41.23, 2.09), region = 'A', \n",
    "               gender = 'F', languages = ['catalan'], race = 'white',\n",
    "               availabilities = [('10:00', '15:00'), ('17:00', '23:00')])\n",
    "\n",
    "all_agents = [agent1, agent2, agent3, agent4, agent5, agent6, agent7]"
   ]
  },
  {
   "cell_type": "markdown",
   "id": "450ca462",
   "metadata": {},
   "source": [
    "## Service"
   ]
  },
  {
   "cell_type": "code",
   "execution_count": 80,
   "id": "6c0fb69f",
   "metadata": {},
   "outputs": [],
   "source": [
    "class Service: \n",
    "    def __init__(self, name, age, service_type, location, region, gender, languages, race, time_slot):\n",
    "        self.name = name\n",
    "        self.age = age\n",
    "        self.service_type = service_type # nurse, cpr, massage, physio and/or revalidation\n",
    "        self.location = location # (lat, lon)\n",
    "        self.region = region # A, B, C...\n",
    "        self.gender = gender # male or female\n",
    "        self.languages = languages # spanish, catalan, french and/or english\n",
    "        self.race = race # white, latin-american, black or asian\n",
    "        \n",
    "        # Assumption: services are needed every day in a given time slot\n",
    "        # TODO: find way to loosen this assumption (e.g. allow needed only Tuesday and Wednesday 8am-10am)\n",
    "        self.time_slot = list()\n",
    "        for t in time_slot:\n",
    "            start = datetime.strptime(t[0], '%H:%M')\n",
    "            end = datetime.strptime(t[1], '%H:%M')\n",
    "            self.time_slot.append((start, end))\n",
    "    \n",
    "    def to_string(self):\n",
    "        return \"Service \" + self.name"
   ]
  },
  {
   "cell_type": "markdown",
   "id": "f405ac97",
   "metadata": {},
   "source": [
    "A service represents an elderly as a set of defining features."
   ]
  },
  {
   "cell_type": "code",
   "execution_count": 81,
   "id": "82c2756d",
   "metadata": {},
   "outputs": [],
   "source": [
    "# Create sample services\n",
    "\n",
    "service1 = Service(name = 'Test Service 1', age = 73, service_type = [], location = (46.3, 2.6), region = 'C', \n",
    "               gender = 'F', languages = ['spanish'], race = 'white',\n",
    "               time_slot = [('08:30', '10:00')])\n",
    "\n",
    "service2 = Service(name = 'Test Service 2', age = 82, service_type = ['cpr', 'massage'], location = (43.547, 1.765), region = 'A', \n",
    "               gender = 'M', languages = ['catalan'], race = 'latin-american',\n",
    "               time_slot = [('08:30', '14:00'), ('17:00', '21:00')])\n",
    "\n",
    "service3 = Service(name = 'Test Service 3', age = 86, service_type = ['nurse'], location = (41.7, 2.763), region = 'C', \n",
    "               gender = 'F', languages = ['spanish', 'catalan'], race = 'white',\n",
    "               time_slot = [('17:30', '22:00')])\n",
    "\n",
    "all_services = [service1, service2, service3]"
   ]
  },
  {
   "cell_type": "markdown",
   "id": "db0b5f9f",
   "metadata": {},
   "source": [
    "## Pair"
   ]
  },
  {
   "cell_type": "code",
   "execution_count": 82,
   "id": "44f617a6",
   "metadata": {},
   "outputs": [],
   "source": [
    "class Pair:\n",
    "    def __init__(self, agent, service):\n",
    "        self.agent = agent\n",
    "        self.service = service\n",
    "        \n",
    "        # time_periods are the 'overlap' time interval(s) in which both the agent is available and the service is need\n",
    "        self.time_periods = list()\n",
    "        for agent_av in agent.availabilities:\n",
    "            for service_need in service.time_slot:\n",
    "                if ((agent_av[0] < service_need[1]) # agent availability start is before service need end\n",
    "                    & (agent_av[1] > service_need[0])): # agent availability end is after service need start\n",
    "                    \n",
    "                    start = max(agent_av[0], service_need[0]) # start is latest start\n",
    "                    end = min(agent_av[1], service_need[1]) # end is earliest end\n",
    "                    self.time_periods.append((start, end))\n",
    "    \n",
    "    def isLegal(self):\n",
    "        # 2 conditions: times must match and agent must have correct qualifications\n",
    "        if(len(self.time_periods) == 0):\n",
    "            return False # if there are no time periods, the pair is not possible\n",
    "        \n",
    "        for s_type in self.service.service_type:\n",
    "            if(s_type not in self.agent.qualifications):\n",
    "                return False\n",
    "        return True\n",
    "    \n",
    "    def to_string(self):\n",
    "        return \"Pair of \" + self.agent.name + \" and \" + self.service.name"
   ]
  },
  {
   "cell_type": "markdown",
   "id": "b3ba1486",
   "metadata": {},
   "source": [
    "A pair represents a match of an agent to a service."
   ]
  },
  {
   "cell_type": "code",
   "execution_count": 83,
   "id": "d7ee4332",
   "metadata": {},
   "outputs": [],
   "source": [
    "# Create sample pairs\n",
    "\n",
    "pair1 = Pair(agent = agent1, service = service1)\n",
    "pair2 = Pair(agent = agent1, service = service3)\n",
    "pair3 = Pair(agent = agent2, service = service2)"
   ]
  },
  {
   "cell_type": "code",
   "execution_count": 84,
   "id": "1b17a45a",
   "metadata": {},
   "outputs": [],
   "source": [
    "# builds all possible legal pairs: \n",
    "\n",
    "def build_all_legal_pairs():\n",
    "    pairs = list()\n",
    "    for agent in all_agents:\n",
    "        for service in all_services:\n",
    "            pair = Pair(agent = agent, service = service)\n",
    "            if pair.isLegal():\n",
    "                pairs.append(pair)\n",
    "    return pairs"
   ]
  },
  {
   "cell_type": "markdown",
   "id": "3d040853",
   "metadata": {},
   "source": [
    "## State"
   ]
  },
  {
   "cell_type": "code",
   "execution_count": 203,
   "id": "a7ad1df8",
   "metadata": {},
   "outputs": [],
   "source": [
    "class State:\n",
    "    def __init__(self, pairs):\n",
    "        self.pairs = pairs\n",
    "    \n",
    "    # Redundant function: build_state_space only constructs legal states\n",
    "    def isLegal(self):\n",
    "        \n",
    "        # all pairs must be legal\n",
    "        for pair in self.pairs:\n",
    "            if pair.isLegal() == False:\n",
    "                return False\n",
    "            \n",
    "        # all services must be fulfilled\n",
    "        return sorted(all_services) == sorted(self.services)\n",
    "    \n",
    "    def to_string(self):\n",
    "        s=\"\"\n",
    "        for pair in self.pairs:\n",
    "            s += pair.to_string()\n",
    "            s += \";\"\n",
    "        return s"
   ]
  },
  {
   "cell_type": "markdown",
   "id": "86ff22d5",
   "metadata": {},
   "source": [
    "A state represents a combination of legal agent-service pairs where all services are fulfilled."
   ]
  },
  {
   "cell_type": "code",
   "execution_count": 204,
   "id": "93cd2394",
   "metadata": {},
   "outputs": [],
   "source": [
    "def build_matches():\n",
    "    # key: services\n",
    "    # value: list of which eligible agents for this service\n",
    "    \n",
    "    all_legal_pairs = build_all_legal_pairs()\n",
    "    matches = dict()\n",
    "    \n",
    "    for service in all_services:\n",
    "        match = list()\n",
    "        for pair in all_legal_pairs:\n",
    "            if pair.service == service:\n",
    "                match.append(pair.agent)\n",
    "        matches[service] =  match\n",
    "        \n",
    "    return matches"
   ]
  },
  {
   "cell_type": "code",
   "execution_count": 205,
   "id": "ad6e26a7",
   "metadata": {},
   "outputs": [],
   "source": [
    "def build_state_space():\n",
    "    state_space = list()\n",
    "    matches = build_matches()\n",
    "    \n",
    "    indexes = dict()\n",
    "    for service in matches:\n",
    "        indexes[service] = 0\n",
    "    \n",
    "    done = False\n",
    "    n=0\n",
    "    while(done==False and n<100):\n",
    "        n+=1\n",
    "        pairs = list()\n",
    "        assigned_agents = list()\n",
    "        idx = 0\n",
    "        \n",
    "        for service in matches:\n",
    "            if indexes[service] == len(matches[service]):\n",
    "                indexes, done = _update_indexes(idx, indexes, service, matches)\n",
    "                break\n",
    "            agent = matches[service][indexes[service]]\n",
    "            \n",
    "            if(agent in assigned_agents):\n",
    "                # we try to assign an agent to a service that has already been assigned\n",
    "                indexes, done = _update_indexes(idx, indexes, service, matches)\n",
    "                break\n",
    "                \n",
    "            else:\n",
    "                pair = Pair(agent = agent, service = service)\n",
    "                pairs.append(pair)\n",
    "                assigned_agents.append(agent)\n",
    "                if(service == list(matches)[-1]): # we have just successfully assigned the last service to an agent\n",
    "                    state_space.append(State(pairs))\n",
    "                    indexes, done = _update_indexes(idx, indexes, service, matches)\n",
    "                    \n",
    "            idx += 1\n",
    "            \n",
    "    return state_space\n",
    "\n",
    "def _update_indexes(idx, indexes, service, matches):\n",
    "    if indexes[service] == len(matches[service]): # index already points to last eligible agent for this service\n",
    "        indexes[service] = 0\n",
    "        \n",
    "        if(service == list(matches)[0]): # first service of the dictionary => no more states left to create\n",
    "            return indexes, True\n",
    "        \n",
    "        else: # update the previous service\n",
    "            previous_service = list(matches)[idx-1]\n",
    "            return _update_indexes(idx-1, indexes, previous_service, matches)\n",
    "    \n",
    "    else: # this service still has eligible agents left\n",
    "        indexes[service] += 1\n",
    "        return indexes, False"
   ]
  },
  {
   "cell_type": "markdown",
   "id": "453e3ec3",
   "metadata": {},
   "source": [
    "State space represents all possible (legal) states."
   ]
  },
  {
   "cell_type": "code",
   "execution_count": 211,
   "id": "e17ad192",
   "metadata": {
    "scrolled": true
   },
   "outputs": [
    {
     "name": "stdout",
     "output_type": "stream",
     "text": [
      "--- 0.0010082721710205078 seconds ---\n"
     ]
    }
   ],
   "source": [
    "start_time = time()\n",
    "test = build_state_space()\n",
    "print(\"--- %s seconds ---\" % (time() - start_time))"
   ]
  }
 ],
 "metadata": {
  "kernelspec": {
   "display_name": "Python 3 (ipykernel)",
   "language": "python",
   "name": "python3"
  },
  "language_info": {
   "codemirror_mode": {
    "name": "ipython",
    "version": 3
   },
   "file_extension": ".py",
   "mimetype": "text/x-python",
   "name": "python",
   "nbconvert_exporter": "python",
   "pygments_lexer": "ipython3",
   "version": "3.8.10"
  }
 },
 "nbformat": 4,
 "nbformat_minor": 5
}
